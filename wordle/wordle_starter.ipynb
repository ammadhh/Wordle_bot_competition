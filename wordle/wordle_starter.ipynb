{
  "nbformat": 4,
  "nbformat_minor": 0,
  "metadata": {
    "colab": {
      "provenance": []
    },
    "kernelspec": {
      "name": "python3",
      "display_name": "Python 3"
    },
    "language_info": {
      "name": "python"
    }
  },
  "cells": [
    {
      "cell_type": "markdown",
      "source": [
        "MAKE A COPY OF THIS DOCUMENT. DO NOT DIRECTLY EDIT IT."
      ],
      "metadata": {
        "id": "Akl9e_Zdbvhn"
      }
    },
    {
      "cell_type": "code",
      "execution_count": null,
      "metadata": {
        "id": "7BWNDQAWbV6T"
      },
      "outputs": [],
      "source": [
        "# get word lists using bash commands\n",
        "!wget https://raw.githubusercontent.com/sf200212345/mdst-cracking-wordle/main/wordle/valid_guesses.txt\n",
        "!wget https://raw.githubusercontent.com/sf200212345/mdst-cracking-wordle/main/wordle/valid_solutions.txt"
      ]
    },
    {
      "cell_type": "code",
      "source": [
        "import pathlib\n",
        "import random\n",
        "import string\n",
        "\n",
        "# https://gist.github.com/cfreshman/d97dbe7004522f7bc52ed2a6e22e2c04\n",
        "GUESSES_PATH = pathlib.Path(\"valid_guesses.txt\")\n",
        "\n",
        "# https://www.kaggle.com/datasets/bcruise/wordle-valid-words\n",
        "SOLUTIONS_PATH = pathlib.Path(\"valid_solutions.txt\")\n",
        "\n",
        "WORD_LENGTH = 5\n",
        "NUM_GUESSES = 6"
      ],
      "metadata": {
        "id": "b0jMIdfZbW2D"
      },
      "execution_count": null,
      "outputs": []
    },
    {
      "cell_type": "code",
      "source": [
        "class Wordle:\n",
        "    def __init__(self, mode: str) -> None:\n",
        "        # TODO: read word lists into memory using paths from above\n",
        "\n",
        "        # remember the mode, currently only cli is valid\n",
        "        self.mode = mode\n",
        "\n",
        "        # keep relevant stats\n",
        "        self.num_games = 0\n",
        "        self.num_guesses = 0\n",
        "        self.num_wins = 0\n",
        "\n",
        "    # TODO: this is the main game loop. Fill in all the logic\n",
        "    def play(self) -> None:\n",
        "        if self.mode == \"cli\":\n",
        "            while True:\n",
        "                # READ ME\n",
        "                # These data structures should be used to generate output using get_print_stats and print_state.\n",
        "                # If you do not want to use the functions we give you for printing, you are free to choose your\n",
        "                # own data structures and names\n",
        "\n",
        "                # An array of strings to keep past guesses. Guesses should be kept in the order they came in.\n",
        "                current_guesses = []\n",
        "\n",
        "                # An array of strings to keep past guess feedback. Has only three possible letters:\n",
        "                # C for correct, M for misplaced, W for wrong. Each feedback letter corresponds to one letter\n",
        "                # for the same guess as current_guesses.\n",
        "                # e.g. guessed WORDS and the solution was BIRDS, guess_feedback[-1] = \"WWCCC\"\n",
        "                guess_feedback = []\n",
        "\n",
        "                # TODO: select solution word randomly (hint: we imported the random module above)\n",
        "\n",
        "                # TODO: Allow the user to guess 6 (NUM_GUESSES) times for the solution word. For each guess:\n",
        "                # 1. Take the user input and validate it using self.is_valid_guess\n",
        "                #   Hint: either make all words upper or lower case for consistency.\n",
        "                # 2. Check if guess is the solution word. If it is, the current game ends.\n",
        "                # 3. If it isn't, you need to generate feedback for the current guess. Use the explanation for guess_feedback to help.\n",
        "                #   Hint: strings are immutable in Python, but arrays can be converted easily using \"\".join(array_name)\n",
        "                # 4. print the current state using self.print_state, and pass in the proper arguments.\n",
        "\n",
        "                # TODO: After the user guesses the solution word or uses up all 6 guesses, need to check which situation it is.\n",
        "                # Output a little message and how many guesses it took\n",
        "\n",
        "                # TODO: update stats using get_print_stats by passing it the proper data\n",
        "\n",
        "                # TODO: prompt user to continue playing the game by taking their choice (yes, quit, no, etc) as input\n",
        "\n",
        "    # TODO: implement this function with all the checks needed to validate a guess.\n",
        "    # user_guess should be passed-in from the for loop in self.play\n",
        "    def is_valid_guess(self, user_guess: str) -> bool:\n",
        "        pass\n",
        "\n",
        "    # Do not modify this function. Takes a bool \"win\" that tells whether or not the user guessed the word\n",
        "    # and num_guesses as the number of guesses the user made in this current game.\n",
        "    # This function updates all stats and prints it to the console\n",
        "    def get_print_stats(self, win: bool, num_guesses: int) -> None:\n",
        "        if win:\n",
        "            self.num_wins += 1\n",
        "        self.num_games += 1\n",
        "        self.num_guesses += num_guesses\n",
        "        print(f\"\\nCurrent win rate: {self.num_wins} / {self.num_games} = {self.num_wins / self.num_games}\")\n",
        "        print(f\"Average number of guesses: {self.num_guesses / self.num_games}\\n\")\n",
        "\n",
        "    # Do not modify this function. This takes current_guesses and guess_feedback from the self.play function\n",
        "    # with the same definitions given in that function.\n",
        "    # This function finds all the correct, misplaced, wrong and unused letters based on the parameters\n",
        "    # and prints it all out with your past guessing history for a nice display.\n",
        "    def print_state(self, current_guesses: list[str], guess_feedback: list[str]) -> None:\n",
        "        correct = set()\n",
        "        misplaced = set()\n",
        "        wrong = set()\n",
        "        for i in reversed(range(len(current_guesses))):\n",
        "            for j in range(WORD_LENGTH):\n",
        "                if guess_feedback[i][j] == \"C\":\n",
        "                    correct.add(current_guesses[i][j])\n",
        "                elif guess_feedback[i][j] == \"M\" and current_guesses[i][j] not in correct:\n",
        "                    misplaced.add(current_guesses[i][j])\n",
        "                elif guess_feedback[i][j] == \"W\":\n",
        "                    wrong.add(current_guesses[i][j])\n",
        "\n",
        "        print(f\"\\t\\t\\tGUESSES\\t\\t\\tFEEDBACK\")\n",
        "        for guess_num in range(NUM_GUESSES):\n",
        "            if guess_num < len(current_guesses):\n",
        "                print(f\"\\t\\t\\t{current_guesses[guess_num]}\\t\\t\\t{guess_feedback[guess_num]}\")\n",
        "            else:\n",
        "                print(\"\\t\\t\\t_____\\t\\t\\t_____\")\n",
        "        print(f\"Correct: {', '.join(sorted(list(correct)))}\")\n",
        "        print(f\"Misplaced: {', '.join(sorted(list(misplaced)))}\")\n",
        "        print(f\"Wrong: {', '.join(sorted(list(wrong)))}\")\n",
        "        print(f\"Unused: {', '.join(sorted(list(set(string.ascii_uppercase).difference(correct).difference(misplaced).difference(wrong))))}\\n\")"
      ],
      "metadata": {
        "id": "75mQ2_J-bZOi"
      },
      "execution_count": null,
      "outputs": []
    },
    {
      "cell_type": "code",
      "source": [
        "game = Wordle(\"cli\")\n",
        "game.play()"
      ],
      "metadata": {
        "id": "NyxyfWt9bhXx"
      },
      "execution_count": null,
      "outputs": []
    }
  ]
}